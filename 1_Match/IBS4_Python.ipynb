{
 "cells": [
  {
   "cell_type": "markdown",
   "metadata": {},
   "source": [
    "## IBS 4"
   ]
  },
  {
   "cell_type": "markdown",
   "metadata": {},
   "source": [
    "#### TEAM F"
   ]
  },
  {
   "cell_type": "markdown",
   "metadata": {},
   "source": [
    "Finding Score from 2 sequences - Python"
   ]
  },
  {
   "cell_type": "code",
   "execution_count": null,
   "metadata": {},
   "outputs": [],
   "source": [
    "#Code created by Dharshan Kumar K S\n",
    "#BTech in CSE(Artificial Intelligence)"
   ]
  },
  {
   "cell_type": "markdown",
   "metadata": {},
   "source": [
    "<pre>\n",
    "<b>Rules:</b>\n",
    "\n",
    "Total Score = (Total value for match) + (Total value for mismatch) + (Total value for ‘-‘)\n",
    "\n",
    "•\t‘match’ is 2 when the characters at the same location of S1 and S2 are same\n",
    "•\t‘mismatch’ is -1 when  characters at the same location of S1 and S2 are different\n",
    "•\tComparing a character against ‘-‘ is called as gap and it carries value of -2\n"
   ]
  },
  {
   "cell_type": "code",
   "execution_count": 1,
   "metadata": {},
   "outputs": [
    {
     "name": "stdout",
     "output_type": "stream",
     "text": [
      "Score:  7\n",
      "Score:  -2\n",
      "Score:  1\n",
      "Score:  7\n",
      "Score:  1\n",
      "Score:  4\n",
      "Score:  4\n",
      "Score:  1\n",
      "Score:  1\n",
      "Score:  1\n",
      "Duration of execution: 0.001191 seconds\n"
     ]
    }
   ],
   "source": [
    "import timeit\n",
    "start = timeit.timeit()\n",
    "\n",
    "def score(S1,S2):\n",
    "    count1=0\n",
    "    count2=0\n",
    "    count3=0\n",
    "    \n",
    "    if len(S1)<len(S2):\n",
    "        Len= len(S1)\n",
    "    else:\n",
    "        Len= len(S2)\n",
    "\n",
    "    for i in range(Len):\n",
    "        if(S1[i]==S2[i]):\n",
    "            count1=count1+1\n",
    "        elif(S1[i]==\"-\" or S2[i]==\"-\"):\n",
    "            count3=count3+1\n",
    "        elif(S1[i]!=S2[i]):\n",
    "            count2=count2+1\n",
    "\n",
    "    score = count1*2+count2*(-1)+count3*(-2)\n",
    "    score += abs(len(S2)-len(S1))*(-2)\n",
    "    return score\n",
    "\n",
    "\n",
    "score_total=[]\n",
    "\n",
    "#1st sequence\n",
    "S1=\"AGGCTAGTT-\"\n",
    "S2=\"AGCGAAGTTT\"\n",
    "print(\"Score: \",score(S1,S2))\n",
    "score_total.append(score(S1,S2))\n",
    "\n",
    "#2nd sequence\n",
    "S1=\"-AGGCTAGTT\"\n",
    "S2=\"AGCGAAGTTT\"\n",
    "print(\"Score: \",score(S1,S2))\n",
    "score_total.append(score(S1,S2))\n",
    "\n",
    "#3rd sequence\n",
    "S1=\"AGG-CTAGTT\"\n",
    "S2=\"AGCGAAGTTT\"\n",
    "print(\"Score: \",score(S1,S2))\n",
    "score_total.append(score(S1,S2))\n",
    "\n",
    "#4th sequence\n",
    "S1=\"AGGCTAGT-T\"\n",
    "S2=\"AGCGAAGTTT\"\n",
    "print(\"Score: \",score(S1,S2))\n",
    "score_total.append(score(S1,S2))\n",
    "\n",
    "#5th sequence\n",
    "S1=\"AGGC-TAGTT\"\n",
    "S2=\"AGCGAAGTTT\"\n",
    "print(\"Score: \",score(S1,S2))\n",
    "score_total.append(score(S1,S2))\n",
    "\n",
    "#6th sequence\n",
    "S1=\"AGGCTA-GTT\"\n",
    "S2=\"AGCGAAGTTT\"\n",
    "print(\"Score: \",score(S1,S2))\n",
    "score_total.append(score(S1,S2))\n",
    "\n",
    "#7th sequence\n",
    "S1=\"AG-GCTAGTT\"\n",
    "S2=\"AGCGAAGTTT\"\n",
    "print(\"Score: \",score(S1,S2))\n",
    "score_total.append(score(S1,S2))\n",
    "\n",
    "#8th sequence\n",
    "S1=\"AGGC-TAGTT\"\n",
    "S2=\"AGCGAAGTTT\"\n",
    "print(\"Score: \",score(S1,S2))\n",
    "score_total.append(score(S1,S2))\n",
    "\n",
    "#9th sequence\n",
    "S1=\"AGG-CTAGTT\"\n",
    "S2=\"AGCGAAGTTT\"\n",
    "print(\"Score: \",score(S1,S2))\n",
    "score_total.append(score(S1,S2))\n",
    "\n",
    "#10th sequence\n",
    "S1=\"A-GGCTAGTT\"\n",
    "S2=\"AGCGAAGTTT\"\n",
    "print(\"Score: \",score(S1,S2))\n",
    "score_total.append(score(S1,S2))\n",
    "\n",
    "end = timeit.timeit()\n",
    "print (\"Duration of execution: \"+ str(abs(round(end-start, 6)))+\" seconds\")"
   ]
  },
  {
   "cell_type": "code",
   "execution_count": 3,
   "metadata": {},
   "outputs": [
    {
     "data": {
      "image/png": "[encoded data removed]",
      "text/plain": [
       "<Figure size 432x288 with 1 Axes>"
      ]
     },
     "metadata": {
      "needs_background": "light"
     },
     "output_type": "display_data"
    }
   ],
   "source": [
    "import matplotlib.pyplot as plt\n",
    "fig = plt.figure()\n",
    "ax = fig.add_axes([0,0,1,1])\n",
    "seq = ['seq 1', 'seq 2', 'seq 3', 'seq 4', 'seq 5','seq 6','seq 7','seq 8','seq 9','seq 10']\n",
    "ax.bar(seq,score_total)\n",
    "plt.title(\"Bar graph for sequences\")\n",
    "plt.xlabel(\"\\nSequences\")\n",
    "plt.ylabel(\"Score\")\n",
    "plt.show()\n"
   ]
  },
  {
   "cell_type": "code",
   "execution_count": null,
   "metadata": {},
   "outputs": [],
   "source": []
  }
 ],
 "metadata": {
  "@webio": {
   "lastCommId": null,
   "lastKernelId": null
  },
  "kernelspec": {
   "display_name": "Python 3",
   "language": "python",
   "name": "python3"
  },
  "language_info": {
   "codemirror_mode": {
    "name": "ipython",
    "version": 3
   },
   "file_extension": ".py",
   "mimetype": "text/x-python",
   "name": "python",
   "nbconvert_exporter": "python",
   "pygments_lexer": "ipython3",
   "version": "3.7.4"
  }
 },
 "nbformat": 4,
 "nbformat_minor": 2
}
