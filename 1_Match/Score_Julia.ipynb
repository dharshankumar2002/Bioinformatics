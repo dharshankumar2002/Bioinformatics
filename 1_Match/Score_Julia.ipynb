{
 "cells": [
  {
   "cell_type": "markdown",
   "metadata": {},
   "source": [
    "## IBS 4"
   ]
  },
  {
   "cell_type": "markdown",
   "metadata": {},
   "source": [
    "Finding Score from 2 sequences - Julia"
   ]
  },
  {
   "cell_type": "code",
   "execution_count": null,
   "metadata": {},
   "outputs": [],
   "source": [
    "#Code created by Dharshan Kumar K S\n",
    "#BTech in CSE(Artificial Intelligence)"
   ]
  },
  {
   "cell_type": "markdown",
   "metadata": {},
   "source": [
    "<pre>\n",
    "<b>Rules:</b>\n",
    "\n",
    "Total Score = (Total value for match) + (Total value for mismatch) + (Total value for ‘-‘)\n",
    "\n",
    "•\t‘match’ is 2 when the characters at the same location of S1 and S2 are same\n",
    "•\t‘mismatch’ is -1 when  characters at the same location of S1 and S2 are different\n",
    "•\tComparing a character against ‘-‘ is called as gap and it carries value of -2\n"
   ]
  },
  {
   "cell_type": "code",
   "execution_count": 2,
   "metadata": {},
   "outputs": [
    {
     "name": "stdout",
     "output_type": "stream",
     "text": [
      "Score: 7\n",
      "Score: -2\n",
      "Score: 1\n",
      "Score: 7\n",
      "Score: 1\n",
      "Score: 4\n",
      "Score: 4\n",
      "Score: 1\n",
      "Score: 1\n",
      "Score: 1"
     ]
    },
    {
     "name": "stderr",
     "output_type": "stream",
     "text": [
      "┌ Info:  started timer at: 2021-01-25T11:10:17.656\n",
      "└ @ TickTock C:\\Users\\Dharsankumar\\.julia\\packages\\TickTock\\RsTHR\\src\\TickTock.jl:32\n"
     ]
    },
    {
     "name": "stdout",
     "output_type": "stream",
     "text": [
      "\n"
     ]
    },
    {
     "name": "stderr",
     "output_type": "stream",
     "text": [
      "┌ Info:          0.419500999s: 419 milliseconds\n",
      "└ @ TickTock C:\\Users\\Dharsankumar\\.julia\\packages\\TickTock\\RsTHR\\src\\TickTock.jl:39\n"
     ]
    }
   ],
   "source": [
    "using TickTock\n",
    "tick()\n",
    "\n",
    "function score(S1,S2) \n",
    "    count1=0\n",
    "    count2=0\n",
    "    count3=0\n",
    "    \n",
    "    if length(S1)<length(S2)\n",
    "        Len= length(S1)\n",
    "    else\n",
    "        Len= length(S2)\n",
    "    end\n",
    "    \n",
    "    for i=1:Len\n",
    "        if(S1[i]==S2[i])\n",
    "            count1=count1+1\n",
    "        elseif(S1[i]==\"-\" || S2[i]==\"-\")\n",
    "            count3=count3+1\n",
    "        elseif(S1[i]!=S2[i])\n",
    "            count2=count2+1\n",
    "        end\n",
    "    end\n",
    "        \n",
    "    score = count1*2+count2*(-1)+count3*(-2)-1\n",
    "    score += abs(length(S2)-length(S1))*(-2)\n",
    "    return score\n",
    "end \n",
    "  \n",
    "\n",
    "#1st sequence\n",
    "S1=\"AGGCTAGTT-\"\n",
    "S2=\"AGCGAAGTTT\"\n",
    "score1 = score(S1,S2)\n",
    "println(\"Score: \",score1)\n",
    "\n",
    "#2nd sequence\n",
    "S1=\"-AGGCTAGTT\"\n",
    "S2=\"AGCGAAGTTT\"\n",
    "score1 = score(S1,S2)\n",
    "println(\"Score: \",score1)\n",
    "\n",
    "#3rd sequence\n",
    "S1=\"AGG-CTAGTT\"\n",
    "S2=\"AGCGAAGTTT\"\n",
    "score1 = score(S1,S2)\n",
    "println(\"Score: \",score1)\n",
    "\n",
    "#4th sequence\n",
    "S1=\"AGGCTAGT-T\"\n",
    "S2=\"AGCGAAGTTT\"\n",
    "score1 = score(S1,S2)\n",
    "println(\"Score: \",score1)\n",
    "\n",
    "#5th sequence\n",
    "S1=\"AGGC-TAGTT\"\n",
    "S2=\"AGCGAAGTTT\"\n",
    "score1 = score(S1,S2)\n",
    "println(\"Score: \",score1)\n",
    "\n",
    "#6th sequence\n",
    "S1=\"AGGCTA-GTT\"\n",
    "S2=\"AGCGAAGTTT\"\n",
    "score1 = score(S1,S2)\n",
    "println(\"Score: \",score1)\n",
    "\n",
    "#7th sequence\n",
    "S1=\"AG-GCTAGTT\"\n",
    "S2=\"AGCGAAGTTT\"\n",
    "score1 = score(S1,S2)\n",
    "println(\"Score: \",score1)\n",
    "\n",
    "#8th sequence\n",
    "S1=\"AGGC-TAGTT\"\n",
    "S2=\"AGCGAAGTTT\"\n",
    "score1 = score(S1,S2)\n",
    "println(\"Score: \",score1)\n",
    "\n",
    "#9th sequence\n",
    "S1=\"AGG-CTAGTT\"\n",
    "S2=\"AGCGAAGTTT\"\n",
    "score1 = score(S1,S2)\n",
    "println(\"Score: \",score1)\n",
    "\n",
    "#10th sequence\n",
    "S1=\"A-GGCTAGTT\"\n",
    "S2=\"AGCGAAGTTT\"\n",
    "score1 = score(S1,S2)\n",
    "println(\"Score: \",score1)\n",
    "\n",
    "tock()"
   ]
  },
  {
   "cell_type": "code",
   "execution_count": null,
   "metadata": {},
   "outputs": [],
   "source": []
  }
 ],
 "metadata": {
  "@webio": {
   "lastCommId": null,
   "lastKernelId": null
  },
  "kernelspec": {
   "display_name": "Julia 1.4.2",
   "language": "julia",
   "name": "julia-1.4"
  },
  "language_info": {
   "file_extension": ".jl",
   "mimetype": "application/julia",
   "name": "julia",
   "version": "1.4.2"
  }
 },
 "nbformat": 4,
 "nbformat_minor": 2
}
