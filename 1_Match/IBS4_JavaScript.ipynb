{
 "cells": [
  {
   "cell_type": "markdown",
   "metadata": {},
   "source": [
    "## IBS 4"
   ]
  },
  {
   "cell_type": "markdown",
   "metadata": {},
   "source": [
    "#### TEAM F"
   ]
  },
  {
   "cell_type": "markdown",
   "metadata": {},
   "source": [
    "Finding Score from 2 sequences - JavaScript"
   ]
  },
  {
   "cell_type": "code",
   "execution_count": null,
   "metadata": {},
   "outputs": [],
   "source": [
    "//Code created by Dharshan Kumar K S\n",
    "//BTech in CSE(Artificial Intelligence)"
   ]
  },
  {
   "cell_type": "markdown",
   "metadata": {},
   "source": [
    "<pre>\n",
    "<b>Rules:</b>\n",
    "\n",
    "Total Score = (Total value for match) + (Total value for mismatch) + (Total value for ‘-‘)\n",
    "\n",
    "•\t‘match’ is 2 when the characters at the same location of S1 and S2 are same\n",
    "•\t‘mismatch’ is -1 when  characters at the same location of S1 and S2 are different\n",
    "•\tComparing a character against ‘-‘ is called as gap and it carries value of -2\n"
   ]
  },
  {
   "cell_type": "code",
   "execution_count": 1,
   "metadata": {},
   "outputs": [
    {
     "name": "stdout",
     "output_type": "stream",
     "text": [
      "Score: 7\n",
      "Score: -2\n",
      "Score: 1\n",
      "Score: 7\n",
      "Score: 1\n",
      "Score: 4\n",
      "Score: 4\n",
      "Score: 1\n",
      "Score: 1\n",
      "Score: 1\n",
      "Duration: 6 milliseconds\n"
     ]
    }
   ],
   "source": [
    "var startTime = new Date().getTime();\n",
    "\n",
    "function Score(S1, S2) {\n",
    "    count1=0\n",
    "    count2=0\n",
    "    count3=0\n",
    "    \n",
    "    if (S1.length < S2.length) {\n",
    "        Len= S1.length;} \n",
    "    else {\n",
    "        Len= S2.length;}\n",
    "    \n",
    "    for (var i = 0; i < Len; i++) {\n",
    "        if (S1[i] == S2[i]) {\n",
    "            count1+=1;} \n",
    "        else if (S1[i]==\"-\" || S2[i]==\"-\"){\n",
    "            count3+=1;}\n",
    "        else if (S1[i]!=S2[i]){\n",
    "            count2+=1;} \n",
    "    }\n",
    "    \n",
    "    \n",
    "    score = count1*2+count2*(-1)+count3*(-2)\n",
    "    score += Math.abs(S2.length-S1.length)*(-2)\n",
    "    return score;\n",
    "}\n",
    "\n",
    "\n",
    "//1st sequence\n",
    "S1=\"AGGCTAGTT-\"\n",
    "S2=\"AGCGAAGTTT\"\n",
    "var x = Score(S1, S2);\n",
    "console.log('Score:',x);\n",
    "\n",
    "//2nd sequence\n",
    "S1=\"-AGGCTAGTT\"\n",
    "S2=\"AGCGAAGTTT\"\n",
    "var x = Score(S1, S2);\n",
    "console.log('Score:',x);\n",
    "\n",
    "//3rd sequence\n",
    "S1=\"AGG-CTAGTT\"\n",
    "S2=\"AGCGAAGTTT\"\n",
    "var x = Score(S1, S2);\n",
    "console.log('Score:',x);\n",
    "\n",
    "//4th sequence\n",
    "S1=\"AGGCTAGT-T\"\n",
    "S2=\"AGCGAAGTTT\"\n",
    "var x = Score(S1, S2);\n",
    "console.log('Score:',x);\n",
    "\n",
    "//5th sequence\n",
    "S1=\"AGGC-TAGTT\"\n",
    "S2=\"AGCGAAGTTT\"\n",
    "var x = Score(S1, S2);\n",
    "console.log('Score:',x);\n",
    "\n",
    "//6th sequence\n",
    "S1=\"AGGCTA-GTT\"\n",
    "S2=\"AGCGAAGTTT\"\n",
    "var x = Score(S1, S2);\n",
    "console.log('Score:',x);\n",
    "\n",
    "//7th sequence\n",
    "S1=\"AG-GCTAGTT\"\n",
    "S2=\"AGCGAAGTTT\"\n",
    "var x = Score(S1, S2);\n",
    "console.log('Score:',x);\n",
    "\n",
    "//8th sequence\n",
    "S1=\"AGGC-TAGTT\"\n",
    "S2=\"AGCGAAGTTT\"\n",
    "var x = Score(S1, S2);\n",
    "console.log('Score:',x);\n",
    "\n",
    "//9th sequence\n",
    "S1=\"AGG-CTAGTT\"\n",
    "S2=\"AGCGAAGTTT\"\n",
    "var x = Score(S1, S2);\n",
    "console.log('Score:',x);\n",
    "\n",
    "//10th sequence\n",
    "S1=\"A-GGCTAGTT\"\n",
    "S2=\"AGCGAAGTTT\"\n",
    "var x = Score(S1, S2);\n",
    "console.log('Score:',x);\n",
    "\n",
    "var endTime = new Date().getTime();\n",
    "console.log(\"Duration: \" + (endTime-startTime)+ \" milliseconds\");"
   ]
  },
  {
   "cell_type": "code",
   "execution_count": null,
   "metadata": {},
   "outputs": [],
   "source": []
  }
 ],
 "metadata": {
  "kernelspec": {
   "display_name": "Javascript (Node.js)",
   "language": "javascript",
   "name": "javascript"
  },
  "language_info": {
   "file_extension": ".js",
   "mimetype": "application/javascript",
   "name": "javascript",
   "version": "10.13.0"
  }
 },
 "nbformat": 4,
 "nbformat_minor": 2
}
