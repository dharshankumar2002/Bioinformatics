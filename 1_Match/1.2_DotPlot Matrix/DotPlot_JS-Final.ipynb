{
 "cells": [
  {
   "cell_type": "markdown",
   "metadata": {},
   "source": [
    "## IBS 4"
   ]
  },
  {
   "cell_type": "markdown",
   "metadata": {},
   "source": [
    "Dot Plot Matrix - JavaScript"
   ]
  },
  {
   "cell_type": "markdown",
   "metadata": {},
   "source": [
    "Code created by <b>Dharshan Kumar K S</b>"
   ]
  },
  {
   "cell_type": "markdown",
   "metadata": {},
   "source": [
    "<pre>\n",
    "The dot-plot matrix provides a visualization of potential matching of subsequences between any two sequences\n",
    "\n",
    "•\tSubsequence which are common in both sequences are present diagonally\n",
    "•\tThe matrix has many plotted diagonals as this method shows the matching short sequences\n",
    "•\tWe can see long and short diagonals (common subsequence)\n",
    "•\tShort diagonals are part of long diagonals  \n",
    "•\tShort diagonals are known as noise - it hinders the capability to recognise the other diagonal & it must be removed\n",
    "•\tThe length of the short diagonals can be obtained by observing the Dot matrix\n",
    "•\tDot matrix also shows which are the repeated segments between sequences"
   ]
  },
  {
   "cell_type": "code",
   "execution_count": 6,
   "metadata": {},
   "outputs": [],
   "source": [
    "function diagval(b){\n",
    "    ldiag=[]\n",
    "    templ=[]\n",
    "    tempr=[]\n",
    "    rdiag=[]\n",
    "    diag=[]\n",
    "    j=1\n",
    "\n",
    "    while(j<b.length){\n",
    "        for (var i = 0; i < b.length-j; i++) {\n",
    "            templ.push(b[i+j][i])\n",
    "            tempr.push(b[i][i+j])\n",
    "        }\n",
    "        ldiag.push(templ)\n",
    "        rdiag.push(tempr)\n",
    "        templ=[]\n",
    "        tempr=[]\n",
    "        j+=1\n",
    "    }\n",
    "\n",
    "    j1=0\n",
    "    while(j1<b.length){\n",
    "        for (var i1 = 0; i1 < b.length; i1++) {\n",
    "            if(j1==i1){\n",
    "                diag.push(b[j1][i1])\n",
    "            }\n",
    "        }\n",
    "        j1+=1\n",
    "    }\n",
    "    ldiag.reverse()\n",
    "    s1=ldiag.concat([diag])\n",
    "    s=s1.concat(rdiag)\n",
    "\n",
    "    return s\n",
    "}"
   ]
  },
  {
   "cell_type": "code",
   "execution_count": 7,
   "metadata": {},
   "outputs": [],
   "source": [
    "function DotPlot(s1,s2){\n",
    "    var m=s1.length\n",
    "    var n=s2.length\n",
    "\n",
    "    let mat = Array.from(new Array(m), _ => Array(n).fill(0));\n",
    "    for (var i = 0; i < m; i++) {\n",
    "        for (var j = 0; j < n; j++) {\n",
    "            if (s1[i] == s2[j]) {\n",
    "                mat[i][j]=1;\n",
    "            }\n",
    "        }\n",
    "    }\n",
    "    console.log(mat)\n",
    "    \n",
    "    var dot =[...Array(m)].map(x=>Array(n).fill(0)); \n",
    "    for (var i = 0; i < m; i++) {\n",
    "        for (var j = 0; j < n; j++) {\n",
    "            if (mat[i][j]==1) {\n",
    "                dot[i][j]=s2[j];\n",
    "            }\n",
    "            else {\n",
    "                dot[i][j]=' ';\n",
    "            }\n",
    "        }\n",
    "    }\n",
    "    \n",
    "    \n",
    "    diagonal2= diagval(dot)\n",
    "    b1=[]\n",
    "    for (var i = 0; i < diagonal2.length; i++) {\n",
    "        temp=\"\"\n",
    "        ii=diagonal2[i]\n",
    "        for (var j = 0; j < ii.length-1; j++) {\n",
    "            if(ii[j]!=\" \"){\n",
    "                temp=temp+ii[j]\n",
    "            }\n",
    "            else {\n",
    "                b1.push(temp)\n",
    "                temp=\"\"\n",
    "            }\n",
    "        }\n",
    "        b1.push(temp)\n",
    "    }\n",
    "\n",
    "    final=[]\n",
    "    for (var i = 0; i < b1.length; i++) {\n",
    "        ii=b1[i]\n",
    "        ii2=new Array(ii)\n",
    "        if (ii.length>1){\n",
    "            final.push(ii2.join(''))\n",
    "        }\n",
    "    }\n",
    "    \n",
    "    return final\n",
    "}"
   ]
  },
  {
   "cell_type": "code",
   "execution_count": 8,
   "metadata": {},
   "outputs": [],
   "source": [
    "function longest_seq(arr) {\n",
    "  var long1 = arr[0];\n",
    "  for (i = 0; i < arr.length; i++) {\n",
    "    if (arr[i].length > long1.length) {\n",
    "      long1 = arr[i];\n",
    "    }\n",
    "  }\n",
    "  return long1;\n",
    "}"
   ]
  },
  {
   "cell_type": "code",
   "execution_count": 10,
   "metadata": {
    "scrolled": false
   },
   "outputs": [],
   "source": [
    "function Main_DotPlot(s1,s2){\n",
    "    console.log(\"a) To create a dot-plot matrix for the given example sequences, S1 and S2:\\n\")\n",
    "    subSeq=DotPlot(s1,s2)\n",
    "\n",
    "    console.log(\"\\n\\nc) Display all the common subsequences:\\n\")\n",
    "    console.log(final)\n",
    "\n",
    "    console.log(\"\\n\\nd) Display the longest common subsequence:\\n\")\n",
    "    longest= longest_seq(final)\n",
    "    console.log(longest)\n",
    "}"
   ]
  },
  {
   "cell_type": "code",
   "execution_count": 11,
   "metadata": {},
   "outputs": [
    {
     "name": "stdout",
     "output_type": "stream",
     "text": [
      "a) To create a dot-plot matrix for the given example sequences, S1 and S2:\n",
      "\n",
      "[ [ 1, 0, 0, 0, 0, 1, 0, 0, 0, 0, 1, 0, 0, 0, 0, 1, 0, 0, 0, 1 ],\n",
      "  [ 0, 1, 1, 0, 0, 0, 0, 1, 0, 1, 0, 1, 1, 0, 0, 0, 0, 0, 0, 0 ],\n",
      "  [ 0, 1, 1, 0, 0, 0, 0, 1, 0, 1, 0, 1, 1, 0, 0, 0, 0, 0, 0, 0 ],\n",
      "  [ 0, 0, 0, 1, 0, 0, 0, 0, 1, 0, 0, 0, 0, 1, 0, 0, 0, 1, 1, 0 ],\n",
      "  [ 0, 0, 0, 0, 1, 0, 1, 0, 0, 0, 0, 0, 0, 0, 1, 0, 1, 0, 0, 0 ],\n",
      "  [ 1, 0, 0, 0, 0, 1, 0, 0, 0, 0, 1, 0, 0, 0, 0, 1, 0, 0, 0, 1 ],\n",
      "  [ 0, 0, 0, 0, 1, 0, 1, 0, 0, 0, 0, 0, 0, 0, 1, 0, 1, 0, 0, 0 ],\n",
      "  [ 0, 1, 1, 0, 0, 0, 0, 1, 0, 1, 0, 1, 1, 0, 0, 0, 0, 0, 0, 0 ],\n",
      "  [ 0, 0, 0, 1, 0, 0, 0, 0, 1, 0, 0, 0, 0, 1, 0, 0, 0, 1, 1, 0 ],\n",
      "  [ 0, 1, 1, 0, 0, 0, 0, 1, 0, 1, 0, 1, 1, 0, 0, 0, 0, 0, 0, 0 ],\n",
      "  [ 1, 0, 0, 0, 0, 1, 0, 0, 0, 0, 1, 0, 0, 0, 0, 1, 0, 0, 0, 1 ],\n",
      "  [ 0, 1, 1, 0, 0, 0, 0, 1, 0, 1, 0, 1, 1, 0, 0, 0, 0, 0, 0, 0 ],\n",
      "  [ 0, 1, 1, 0, 0, 0, 0, 1, 0, 1, 0, 1, 1, 0, 0, 0, 0, 0, 0, 0 ],\n",
      "  [ 0, 0, 0, 1, 0, 0, 0, 0, 1, 0, 0, 0, 0, 1, 0, 0, 0, 1, 1, 0 ],\n",
      "  [ 0, 0, 0, 0, 1, 0, 1, 0, 0, 0, 0, 0, 0, 0, 1, 0, 1, 0, 0, 0 ],\n",
      "  [ 1, 0, 0, 0, 0, 1, 0, 0, 0, 0, 1, 0, 0, 0, 0, 1, 0, 0, 0, 1 ],\n",
      "  [ 0, 0, 0, 0, 1, 0, 1, 0, 0, 0, 0, 0, 0, 0, 1, 0, 1, 0, 0, 0 ],\n",
      "  [ 0, 0, 0, 1, 0, 0, 0, 0, 1, 0, 0, 0, 0, 1, 0, 0, 0, 1, 1, 0 ],\n",
      "  [ 0, 0, 0, 1, 0, 0, 0, 0, 1, 0, 0, 0, 0, 1, 0, 0, 0, 1, 1, 0 ],\n",
      "  [ 1, 0, 0, 0, 0, 1, 0, 0, 0, 0, 1, 0, 0, 0, 0, 1, 0, 0, 0, 1 ] ]\n",
      "\n",
      "\n",
      "c) Display all the common subsequences:\n",
      "\n",
      "[ 'ACCTGAG',\n",
      "  'CT',\n",
      "  'CT',\n",
      "  'ACCTGAGCTCACCTGAGTT',\n",
      "  'CT',\n",
      "  'CT',\n",
      "  'ACCTGAG' ]\n",
      "\n",
      "\n",
      "d) Display the longest common subsequence:\n",
      "\n",
      "ACCTGAGCTCACCTGAGTT\n"
     ]
    }
   ],
   "source": [
    "s1=\"ACCTGAGCTCACCTGAGTTA\"\n",
    "s2=\"ACCTGAGCTCACCTGAGTTA\"\n",
    "\n",
    "Main_DotPlot(s1,s2)"
   ]
  },
  {
   "cell_type": "code",
   "execution_count": 14,
   "metadata": {
    "scrolled": false
   },
   "outputs": [
    {
     "name": "stdout",
     "output_type": "stream",
     "text": [
      "a) To create a dot-plot matrix for the given example sequences, S1 and S2:\n",
      "\n",
      "[ [ 0, 0, 0, 0, 0, 0, 0, 0, 0, 0, 0, 0, 0, 0, 1, 0, 0 ],\n",
      "  [ 0, 0, 0, 0, 0, 0, 0, 0, 0, 0, 0, 0, 0, 0, 0, 1, 0 ],\n",
      "  [ 0, 0, 0, 0, 0, 0, 0, 0, 1, 0, 0, 0, 0, 0, 0, 0, 0 ],\n",
      "  [ 0, 0, 0, 1, 0, 0, 0, 1, 0, 0, 0, 0, 0, 0, 0, 0, 0 ],\n",
      "  [ 0, 0, 0, 0, 0, 0, 0, 0, 0, 0, 0, 0, 0, 0, 0, 0, 0 ],\n",
      "  [ 0, 0, 0, 0, 0, 0, 0, 0, 0, 0, 0, 0, 0, 0, 0, 0, 0 ],\n",
      "  [ 1, 0, 0, 0, 0, 0, 1, 0, 0, 0, 0, 0, 1, 1, 0, 0, 0 ],\n",
      "  [ 0, 0, 0, 0, 0, 0, 0, 0, 0, 0, 0, 0, 0, 0, 0, 1, 0 ],\n",
      "  [ 0, 0, 0, 0, 0, 0, 0, 0, 0, 0, 0, 0, 0, 0, 1, 0, 0 ],\n",
      "  [ 0, 0, 0, 0, 0, 0, 0, 0, 0, 0, 0, 0, 0, 0, 0, 1, 0 ] ]\n",
      "\n",
      "\n",
      "c) Display all the common subsequences:\n",
      "\n",
      "[]\n",
      "\n",
      "\n",
      "d) Display the longest common subsequence:\n",
      "\n",
      "undefined\n"
     ]
    }
   ],
   "source": [
    "s1=\"HGSAQVKGHG\"\n",
    "s2=\"KTEAEMKASEDLKKHGT\"\n",
    "\n",
    "Main_DotPlot(s1,s2)"
   ]
  },
  {
   "cell_type": "code",
   "execution_count": 13,
   "metadata": {},
   "outputs": [
    {
     "name": "stdout",
     "output_type": "stream",
     "text": [
      "a) To create a dot-plot matrix for the given example sequences, S1 and S2:\n",
      "\n",
      "[ [ 0, 1, 0, 0, 0, 0, 1, 0, 0, 0, 1, 0, 0, 0, 0, 1, 0, 0, 0, 0, 0, 1, 0, 0, 0, 1, 0, 0, 0 ],\n",
      "  [ 0, 0, 1, 0, 0, 1, 0, 0, 0, 1, 0, 1, 0, 0, 0, 0, 1, 0, 0, 0, 0, 0, 0, 0, 0, 0, 1, 0, 0 ],\n",
      "  [ 1, 0, 0, 1, 0, 0, 0, 0, 1, 0, 0, 0, 0, 0, 0, 0, 0, 0, 1, 0, 0, 0, 0, 1, 0, 0, 0, 0, 1 ],\n",
      "  [ 0, 0, 0, 0, 1, 0, 0, 1, 0, 0, 0, 0, 1, 1, 1, 0, 0, 1, 0, 0, 1, 0, 0, 0, 1, 0, 0, 1, 0 ],\n",
      "  [ 0, 0, 1, 0, 0, 1, 0, 0, 0, 1, 0, 1, 0, 0, 0, 0, 1, 0, 0, 0, 0, 0, 0, 0, 0, 0, 1, 0, 0 ],\n",
      "  [ 0, 1, 0, 0, 0, 0, 1, 0, 0, 0, 1, 0, 0, 0, 0, 1, 0, 0, 0, 0, 0, 1, 0, 0, 0, 1, 0, 0, 0 ],\n",
      "  [ 0, 0, 0, 0, 1, 0, 0, 1, 0, 0, 0, 0, 1, 1, 1, 0, 0, 1, 0, 0, 1, 0, 0, 0, 1, 0, 0, 1, 0 ],\n",
      "  [ 1, 0, 0, 1, 0, 0, 0, 0, 1, 0, 0, 0, 0, 0, 0, 0, 0, 0, 1, 0, 0, 0, 0, 1, 0, 0, 0, 0, 1 ],\n",
      "  [ 0, 0, 1, 0, 0, 1, 0, 0, 0, 1, 0, 1, 0, 0, 0, 0, 1, 0, 0, 0, 0, 0, 0, 0, 0, 0, 1, 0, 0 ],\n",
      "  [ 0, 1, 0, 0, 0, 0, 1, 0, 0, 0, 1, 0, 0, 0, 0, 1, 0, 0, 0, 0, 0, 1, 0, 0, 0, 1, 0, 0, 0 ],\n",
      "  [ 0, 0, 1, 0, 0, 1, 0, 0, 0, 1, 0, 1, 0, 0, 0, 0, 1, 0, 0, 0, 0, 0, 0, 0, 0, 0, 1, 0, 0 ],\n",
      "  [ 0, 0, 0, 0, 1, 0, 0, 1, 0, 0, 0, 0, 1, 1, 1, 0, 0, 1, 0, 0, 1, 0, 0, 0, 1, 0, 0, 1, 0 ],\n",
      "  [ 1, 0, 0, 1, 0, 0, 0, 0, 1, 0, 0, 0, 0, 0, 0, 0, 0, 0, 1, 0, 0, 0, 0, 1, 0, 0, 0, 0, 1 ],\n",
      "  [ 0, 0, 0, 0, 1, 0, 0, 1, 0, 0, 0, 0, 1, 1, 1, 0, 0, 1, 0, 0, 1, 0, 0, 0, 1, 0, 0, 1, 0 ],\n",
      "  [ 0, 1, 0, 0, 0, 0, 1, 0, 0, 0, 1, 0, 0, 0, 0, 1, 0, 0, 0, 0, 0, 1, 0, 0, 0, 1, 0, 0, 0 ],\n",
      "  [ 0, 0, 1, 0, 0, 1, 0, 0, 0, 1, 0, 1, 0, 0, 0, 0, 1, 0, 0, 0, 0, 0, 0, 0, 0, 0, 1, 0, 0 ],\n",
      "  [ 0, 0, 0, 0, 1, 0, 0, 1, 0, 0, 0, 0, 1, 1, 1, 0, 0, 1, 0, 0, 1, 0, 0, 0, 1, 0, 0, 1, 0 ],\n",
      "  [ 1, 0, 0, 1, 0, 0, 0, 0, 1, 0, 0, 0, 0, 0, 0, 0, 0, 0, 1, 0, 0, 0, 0, 1, 0, 0, 0, 0, 1 ],\n",
      "  [ 0, 0, 1, 0, 0, 1, 0, 0, 0, 1, 0, 1, 0, 0, 0, 0, 1, 0, 0, 0, 0, 0, 0, 0, 0, 0, 1, 0, 0 ],\n",
      "  [ 0, 0, 0, 0, 1, 0, 0, 1, 0, 0, 0, 0, 1, 1, 1, 0, 0, 1, 0, 0, 1, 0, 0, 0, 1, 0, 0, 1, 0 ],\n",
      "  [ 0, 1, 0, 0, 0, 0, 1, 0, 0, 0, 1, 0, 0, 0, 0, 1, 0, 0, 0, 0, 0, 1, 0, 0, 0, 1, 0, 0, 0 ],\n",
      "  [ 0, 0, 0, 0, 1, 0, 0, 1, 0, 0, 0, 0, 1, 1, 1, 0, 0, 1, 0, 0, 1, 0, 0, 0, 1, 0, 0, 1, 0 ],\n",
      "  [ 1, 0, 0, 1, 0, 0, 0, 0, 1, 0, 0, 0, 0, 0, 0, 0, 0, 0, 1, 0, 0, 0, 0, 1, 0, 0, 0, 0, 1 ],\n",
      "  [ 0, 0, 0, 0, 1, 0, 0, 1, 0, 0, 0, 0, 1, 1, 1, 0, 0, 1, 0, 0, 1, 0, 0, 0, 1, 0, 0, 1, 0 ],\n",
      "  [ 0, 1, 0, 0, 0, 0, 1, 0, 0, 0, 1, 0, 0, 0, 0, 1, 0, 0, 0, 0, 0, 1, 0, 0, 0, 1, 0, 0, 0 ],\n",
      "  [ 0, 0, 1, 0, 0, 1, 0, 0, 0, 1, 0, 1, 0, 0, 0, 0, 1, 0, 0, 0, 0, 0, 0, 0, 0, 0, 1, 0, 0 ],\n",
      "  [ 0, 0, 0, 0, 1, 0, 0, 1, 0, 0, 0, 0, 1, 1, 1, 0, 0, 1, 0, 0, 1, 0, 0, 0, 1, 0, 0, 1, 0 ],\n",
      "  [ 1, 0, 0, 1, 0, 0, 0, 0, 1, 0, 0, 0, 0, 0, 0, 0, 0, 0, 1, 0, 0, 0, 0, 1, 0, 0, 0, 0, 1 ],\n",
      "  [ 0, 1, 0, 0, 0, 0, 1, 0, 0, 0, 1, 0, 0, 0, 0, 1, 0, 0, 0, 0, 0, 1, 0, 0, 0, 1, 0, 0, 0 ] ]\n",
      "\n",
      "\n",
      "c) Display all the common subsequences:\n",
      "\n",
      "[ 'CG',\n",
      "  'AT',\n",
      "  'TA',\n",
      "  'CTA',\n",
      "  'CGT',\n",
      "  'CG',\n",
      "  'AT',\n",
      "  'TAG',\n",
      "  'TCGTA',\n",
      "  'CG',\n",
      "  'GT',\n",
      "  'TC',\n",
      "  'TA',\n",
      "  'CGT',\n",
      "  'TA',\n",
      "  'GC',\n",
      "  'TC',\n",
      "  'GT',\n",
      "  'CGATGCTAGCGT',\n",
      "  'TCGTA',\n",
      "  'TC',\n",
      "  'ATCGT',\n",
      "  'GC',\n",
      "  'TC',\n",
      "  'CGTA',\n",
      "  'TC',\n",
      "  'GT',\n",
      "  'CG',\n",
      "  'TA',\n",
      "  'ATCGT',\n",
      "  'CG',\n",
      "  'CGT',\n",
      "  'AT',\n",
      "  'CG' ]\n",
      "\n",
      "\n",
      "d) Display the longest common subsequence:\n",
      "\n",
      "CGATGCTAGCGT\n"
     ]
    }
   ],
   "source": [
    "s1=\"CGATGCTAGCGTATCGTAGTCTATCGTAC\"\n",
    "s2=\"ACGATGCTAGCGTTTCGTA-TC-ATCGTA\"\n",
    "\n",
    "Main_DotPlot(s1,s2)"
   ]
  },
  {
   "cell_type": "code",
   "execution_count": null,
   "metadata": {},
   "outputs": [],
   "source": []
  }
 ],
 "metadata": {
  "@webio": {
   "lastCommId": null,
   "lastKernelId": null
  },
  "kernelspec": {
   "display_name": "Javascript (Node.js)",
   "language": "javascript",
   "name": "javascript"
  },
  "language_info": {
   "file_extension": ".js",
   "mimetype": "application/javascript",
   "name": "javascript",
   "version": "10.13.0"
  }
 },
 "nbformat": 4,
 "nbformat_minor": 2
}
