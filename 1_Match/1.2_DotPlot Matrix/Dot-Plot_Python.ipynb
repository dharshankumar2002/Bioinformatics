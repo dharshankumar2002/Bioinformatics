{
 "cells": [
  {
   "cell_type": "markdown",
   "metadata": {},
   "source": [
    "## IBS 4"
   ]
  },
  {
   "cell_type": "markdown",
   "metadata": {},
   "source": [
    "Dot Plot Matrix - Python"
   ]
  },
  {
   "cell_type": "markdown",
   "metadata": {},
   "source": [
    "Code created by <b>Dharshan Kumar K S</b>"
   ]
  },
  {
   "cell_type": "markdown",
   "metadata": {},
   "source": [
    "<pre>\n",
    "The dot-plot matrix provides a visualization of potential matching of subsequences between any two sequences\n",
    "\n",
    "•\tSubsequence which are common in both sequences are present diagonally\n",
    "•\tThe matrix has many plotted diagonals as this method shows the matching short sequences\n",
    "•\tWe can see long and short diagonals (common subsequence)\n",
    "•\tShort diagonals are part of long diagonals  \n",
    "•\tShort diagonals are known as noise - it hinders the capability to recognise the other diagonal & it must be removed\n",
    "•\tThe length of the short diagonals can be obtained by observing the Dot matrix\n",
    "•\tDot matrix also shows which are the repeated segments between sequences"
   ]
  },
  {
   "cell_type": "code",
   "execution_count": 52,
   "metadata": {},
   "outputs": [],
   "source": [
    "S1 = \"ACCTGAGCTCACCTGAGTTA\"\n",
    "S2 = \"ACCTGAGCTCACCTGAGTTA\""
   ]
  },
  {
   "cell_type": "code",
   "execution_count": 53,
   "metadata": {},
   "outputs": [],
   "source": [
    "S1 = \"HGSAQVKGHG\"\n",
    "S2 = \"KTEAEMKASEDLKKHGT\""
   ]
  },
  {
   "cell_type": "code",
   "execution_count": 54,
   "metadata": {},
   "outputs": [],
   "source": [
    "S1 = \"CGATGCTAGCGTATCGTAGTCTATCGTAC\"\n",
    "S2 = \"ACGATGCTAGCGTTTCGTA-TC-ATCGTA\""
   ]
  },
  {
   "cell_type": "markdown",
   "metadata": {},
   "source": [
    "#### Input: 2 Sequences"
   ]
  },
  {
   "cell_type": "code",
   "execution_count": 55,
   "metadata": {},
   "outputs": [],
   "source": [
    "S1 = \"ACACACTA\" \n",
    "S2 = \"AGCACACA\""
   ]
  },
  {
   "cell_type": "code",
   "execution_count": 56,
   "metadata": {},
   "outputs": [],
   "source": [
    "import numpy as np\n",
    "\n",
    "m=len(S1)\n",
    "n=len(S2)\n",
    "\n",
    "if (m<n):\n",
    "    S1=S1+\" \"*abs(n-m)\n",
    "elif (m>n):\n",
    "    S2=S2+\" \"*abs(m-n)\n",
    "    \n",
    "m=len(S1)\n",
    "n=len(S2)"
   ]
  },
  {
   "cell_type": "code",
   "execution_count": 57,
   "metadata": {},
   "outputs": [],
   "source": [
    "seq1=[]\n",
    "seq2=[]\n",
    "seq2_1=[]\n",
    "seq2.append(\" \")\n",
    "\n",
    "for i in range(m):\n",
    "    seq1.append(S1[i])\n",
    "for i in range(n):\n",
    "    seq2.append(S2[i])\n",
    "    seq2_1.append(S2[i])\n",
    "    \n",
    "seq1=np.array(seq1)\n",
    "seq2=np.array(seq2)\n",
    "seq2_1=np.array(seq2_1)"
   ]
  },
  {
   "cell_type": "markdown",
   "metadata": {},
   "source": [
    "#### a)\tTo create a dot-plot matrix for the given example sequences, S1 and S2. "
   ]
  },
  {
   "cell_type": "code",
   "execution_count": 58,
   "metadata": {},
   "outputs": [
    {
     "name": "stdout",
     "output_type": "stream",
     "text": [
      "[[' ' 'A' 'C' 'A' 'C' 'A' 'C' 'T' 'A']\n",
      " ['A' '1.0' '0.0' '1.0' '0.0' '1.0' '0.0' '0.0' '1.0']\n",
      " ['G' '0.0' '0.0' '0.0' '0.0' '0.0' '0.0' '0.0' '0.0']\n",
      " ['C' '0.0' '1.0' '0.0' '1.0' '0.0' '1.0' '0.0' '0.0']\n",
      " ['A' '1.0' '0.0' '1.0' '0.0' '1.0' '0.0' '0.0' '1.0']\n",
      " ['C' '0.0' '1.0' '0.0' '1.0' '0.0' '1.0' '0.0' '0.0']\n",
      " ['A' '1.0' '0.0' '1.0' '0.0' '1.0' '0.0' '0.0' '1.0']\n",
      " ['C' '0.0' '1.0' '0.0' '1.0' '0.0' '1.0' '0.0' '0.0']\n",
      " ['A' '1.0' '0.0' '1.0' '0.0' '1.0' '0.0' '0.0' '1.0']]\n"
     ]
    }
   ],
   "source": [
    "dot = np.zeros((m,n))\n",
    "\n",
    "for i in range(m):\n",
    "    for j in range(n):\n",
    "        if(S1[j]==S2[i]):\n",
    "            dot[i][j]=1\n",
    "            \n",
    "#print(dot)\n",
    "#print()\n",
    "\n",
    "dot2 = np.vstack ((seq1, dot) )\n",
    "dot3 = np.hstack((np.atleast_2d(seq2).T,dot2))\n",
    "print(dot3)"
   ]
  },
  {
   "cell_type": "markdown",
   "metadata": {},
   "source": [
    "#### b)\tDisplay the dot-plot matrix (or visualize the matrix)"
   ]
  },
  {
   "cell_type": "code",
   "execution_count": 59,
   "metadata": {},
   "outputs": [
    {
     "name": "stdout",
     "output_type": "stream",
     "text": [
      "[0, 2, 4, 7, 1, 3, 5, 0, 2, 4, 7, 1, 3, 5, 0, 2, 4, 7, 1, 3, 5, 0, 2, 4, 7]\n",
      "[0, 0, 0, 0, 2, 2, 2, 3, 3, 3, 3, 4, 4, 4, 5, 5, 5, 5, 6, 6, 6, 7, 7, 7, 7]\n"
     ]
    },
    {
     "data": {
      "image/png": "[encoded data removed]",
      "text/plain": [
       "<Figure size 432x288 with 1 Axes>"
      ]
     },
     "metadata": {
      "needs_background": "light"
     },
     "output_type": "display_data"
    }
   ],
   "source": [
    "import matplotlib.pyplot as plt\n",
    "match_x=[]\n",
    "match_y=[]\n",
    "\n",
    "for i in range(m):\n",
    "    for j in range(n):\n",
    "        if( (dot[i][j]==1.0)):\n",
    "            match_x.append(j)\n",
    "            match_y.append(i)\n",
    "            \n",
    "print(match_x)\n",
    "print(match_y)\n",
    "plt.scatter(match_x, match_y)\n",
    "plt.gca().invert_yaxis()\n",
    "plt.grid(color='b', linestyle='-', linewidth=1)\n",
    "plt.xlabel(\"Sequence 1\")\n",
    "plt.ylabel(\"Sequence 2\")\n",
    "plt.title(\"Dot-Plot Matrix\")\n",
    "axes = plt.gca()\n",
    "xt=plt.xticks(np.arange(len(list(seq1))),list(seq1))\n",
    "yt=plt.yticks(np.arange(len(list(seq2_1))),list(seq2_1))\n",
    "\n",
    "plt.show()"
   ]
  },
  {
   "cell_type": "code",
   "execution_count": 60,
   "metadata": {},
   "outputs": [
    {
     "data": {
      "image/png": "[encoded data removed]",
      "text/plain": [
       "<Figure size 432x288 with 1 Axes>"
      ]
     },
     "metadata": {
      "needs_background": "light"
     },
     "output_type": "display_data"
    }
   ],
   "source": [
    "dotplot=plt.imshow(dot)\n",
    "xt=plt.xticks(np.arange(len(list(seq1))),list(seq1))\n",
    "yt=plt.yticks(np.arange(len(list(seq2_1))),list(seq2_1))\n",
    "plt.xlabel(\"Sequence 1\")\n",
    "plt.ylabel(\"Sequence 2\")\n",
    "plt.title(\"Dot-Plot Matrix\")\n",
    "plt.show()"
   ]
  },
  {
   "cell_type": "code",
   "execution_count": 61,
   "metadata": {},
   "outputs": [
    {
     "data": {
      "text/plain": [
       "array([[1., 0., 1., 0., 1., 0., 0., 1.],\n",
       "       [0., 0., 0., 0., 0., 0., 0., 0.],\n",
       "       [0., 1., 0., 1., 0., 1., 0., 0.],\n",
       "       [1., 0., 1., 0., 1., 0., 0., 1.],\n",
       "       [0., 1., 0., 1., 0., 1., 0., 0.],\n",
       "       [1., 0., 1., 0., 1., 0., 0., 1.],\n",
       "       [0., 1., 0., 1., 0., 1., 0., 0.],\n",
       "       [1., 0., 1., 0., 1., 0., 0., 1.]])"
      ]
     },
     "execution_count": 61,
     "metadata": {},
     "output_type": "execute_result"
    }
   ],
   "source": [
    "dot"
   ]
  },
  {
   "cell_type": "code",
   "execution_count": 62,
   "metadata": {},
   "outputs": [],
   "source": [
    "dot=np.empty(shape=(m,n),dtype='object') \n",
    "\n",
    "for i in range(m):\n",
    "    for j in range(n):\n",
    "        if(S1[j]==S2[i]):\n",
    "            dot[i][j]=S2[i]\n",
    "        else:\n",
    "            dot[i][j]='0'"
   ]
  },
  {
   "cell_type": "code",
   "execution_count": 63,
   "metadata": {},
   "outputs": [
    {
     "data": {
      "text/plain": [
       "array([['A', '0', 'A', '0', 'A', '0', '0', 'A'],\n",
       "       ['0', '0', '0', '0', '0', '0', '0', '0'],\n",
       "       ['0', 'C', '0', 'C', '0', 'C', '0', '0'],\n",
       "       ['A', '0', 'A', '0', 'A', '0', '0', 'A'],\n",
       "       ['0', 'C', '0', 'C', '0', 'C', '0', '0'],\n",
       "       ['A', '0', 'A', '0', 'A', '0', '0', 'A'],\n",
       "       ['0', 'C', '0', 'C', '0', 'C', '0', '0'],\n",
       "       ['A', '0', 'A', '0', 'A', '0', '0', 'A']], dtype=object)"
      ]
     },
     "execution_count": 63,
     "metadata": {},
     "output_type": "execute_result"
    }
   ],
   "source": [
    "dot"
   ]
  },
  {
   "cell_type": "code",
   "execution_count": 64,
   "metadata": {},
   "outputs": [],
   "source": [
    "def get_rows(matrix):\n",
    "    return [[c for c in r] for r in matrix]\n",
    "\n",
    "def get_cols(matrix):\n",
    "    return zip(*matrix)\n",
    "\n",
    "def get_forward_diagonals(matrix):\n",
    "    b = [None] * (len(matrix) - 1)\n",
    "    matrix = [b[i:] + r + b[:i] for i, r in enumerate(get_rows(matrix))]\n",
    "    return [[c for c in r if c is not None] for r in get_cols(matrix)]\n",
    "\n",
    "def get_backward_diagonals(matrix):\n",
    "    b = [None] * (len(matrix) - 1)\n",
    "    matrix = [b[:i] + r + b[i:] for i, r in enumerate(get_rows(matrix))]\n",
    "    return [[c for c in r if c is not None] for r in get_cols(matrix)]"
   ]
  },
  {
   "cell_type": "markdown",
   "metadata": {},
   "source": [
    "#### Normal Diagonals:"
   ]
  },
  {
   "cell_type": "markdown",
   "metadata": {},
   "source": [
    "#### c)\tDisplay all the common subsequences"
   ]
  },
  {
   "cell_type": "code",
   "execution_count": 65,
   "metadata": {},
   "outputs": [],
   "source": [
    "diagonal_f=get_forward_diagonals(dot)\n",
    "#print(diagonal_f)"
   ]
  },
  {
   "cell_type": "code",
   "execution_count": 66,
   "metadata": {},
   "outputs": [],
   "source": [
    "b1_f=[]\n",
    "\n",
    "for i in diagonal_f:\n",
    "    b2_f=[]\n",
    "    for j in range(len(i)-1):\n",
    "        if((i[j]!='0' and i[j+1]!='0') or (i[j]!='0' and i[j-1]!='0')):\n",
    "            b2_f.append(i[j])\n",
    "    b1_f.append(b2_f)"
   ]
  },
  {
   "cell_type": "code",
   "execution_count": 67,
   "metadata": {},
   "outputs": [],
   "source": [
    "final_f=[]\n",
    "\n",
    "for i in b1_f:\n",
    "    if len(i)!=0:\n",
    "        final_f.append(i)"
   ]
  },
  {
   "cell_type": "code",
   "execution_count": 68,
   "metadata": {},
   "outputs": [
    {
     "name": "stdout",
     "output_type": "stream",
     "text": [
      "['AC', 'ACAC', 'CACAC', 'A', 'CAC', 'A', 'A']\n"
     ]
    }
   ],
   "source": [
    "final2_f=[]\n",
    "\n",
    "for i in final_f:\n",
    "    separator = ''\n",
    "    final2_f.append(separator.join(i))\n",
    "    \n",
    "print(final2_f)"
   ]
  },
  {
   "cell_type": "markdown",
   "metadata": {},
   "source": [
    "#### d)\tDisplay the longest common subsequence"
   ]
  },
  {
   "cell_type": "code",
   "execution_count": 69,
   "metadata": {},
   "outputs": [
    {
     "name": "stdout",
     "output_type": "stream",
     "text": [
      "CACAC\n"
     ]
    }
   ],
   "source": [
    "lengths_f=[]\n",
    "for i in final2_f:\n",
    "    lengths_f.append(len(i))\n",
    "    \n",
    "for i in final2_f:\n",
    "    if(max(lengths_f)==len(i)):\n",
    "        print(i)"
   ]
  },
  {
   "cell_type": "markdown",
   "metadata": {},
   "source": [
    "#### Anti-Normal Diagonals:"
   ]
  },
  {
   "cell_type": "markdown",
   "metadata": {},
   "source": [
    "#### c)\tDisplay all the common subsequences"
   ]
  },
  {
   "cell_type": "code",
   "execution_count": 70,
   "metadata": {},
   "outputs": [],
   "source": [
    "diagonal_b=get_backward_diagonals(dot)\n",
    "#print(diagonal_b)"
   ]
  },
  {
   "cell_type": "code",
   "execution_count": 71,
   "metadata": {},
   "outputs": [],
   "source": [
    "b1_b=[]\n",
    "\n",
    "for i in diagonal_b:\n",
    "    b2_b=[]\n",
    "    for j in range(len(i)-1):\n",
    "        if((i[j]!='0' and i[j+1]!='0') or (i[j]!='0' and i[j-1]!='0')):\n",
    "            b2_b.append(i[j])\n",
    "    b1_b.append(b2_b)"
   ]
  },
  {
   "cell_type": "code",
   "execution_count": 72,
   "metadata": {},
   "outputs": [],
   "source": [
    "final_b=[]\n",
    "\n",
    "for i in b1_b:\n",
    "    if len(i)!=0:\n",
    "        final_b.append(i)"
   ]
  },
  {
   "cell_type": "code",
   "execution_count": 73,
   "metadata": {},
   "outputs": [
    {
     "name": "stdout",
     "output_type": "stream",
     "text": [
      "['C', 'CAC', 'ACACAC', 'CAC', 'C']\n"
     ]
    }
   ],
   "source": [
    "final2_b=[]\n",
    "\n",
    "for i in final_b:\n",
    "    separator = ''\n",
    "    final2_b.append(separator.join(i))\n",
    "    \n",
    "print(final2_b)"
   ]
  },
  {
   "cell_type": "markdown",
   "metadata": {},
   "source": [
    "#### d)\tDisplay the longest common subsequence"
   ]
  },
  {
   "cell_type": "code",
   "execution_count": 74,
   "metadata": {},
   "outputs": [
    {
     "name": "stdout",
     "output_type": "stream",
     "text": [
      "ACACAC\n"
     ]
    }
   ],
   "source": [
    "lengths_b=[]\n",
    "for i in final2_b:\n",
    "    lengths_b.append(len(i))\n",
    "    \n",
    "for i in final2_b:\n",
    "    if(max(lengths_b)==len(i)):\n",
    "        print(i)"
   ]
  },
  {
   "cell_type": "code",
   "execution_count": null,
   "metadata": {},
   "outputs": [],
   "source": []
  },
  {
   "cell_type": "code",
   "execution_count": null,
   "metadata": {},
   "outputs": [],
   "source": []
  }
 ],
 "metadata": {
  "@webio": {
   "lastCommId": null,
   "lastKernelId": null
  },
  "kernelspec": {
   "display_name": "Python 3",
   "language": "python",
   "name": "python3"
  },
  "language_info": {
   "codemirror_mode": {
    "name": "ipython",
    "version": 3
   },
   "file_extension": ".py",
   "mimetype": "text/x-python",
   "name": "python",
   "nbconvert_exporter": "python",
   "pygments_lexer": "ipython3",
   "version": "3.7.4"
  }
 },
 "nbformat": 4,
 "nbformat_minor": 2
}
