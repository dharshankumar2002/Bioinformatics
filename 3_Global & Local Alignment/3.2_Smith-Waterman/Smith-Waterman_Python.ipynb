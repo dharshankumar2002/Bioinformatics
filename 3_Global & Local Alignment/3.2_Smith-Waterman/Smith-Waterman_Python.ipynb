{
 "cells": [
  {
   "cell_type": "markdown",
   "metadata": {},
   "source": [
    "## IBS 4"
   ]
  },
  {
   "cell_type": "markdown",
   "metadata": {},
   "source": [
    "Smith – Waterman - Python"
   ]
  },
  {
   "cell_type": "markdown",
   "metadata": {},
   "source": [
    "Code created by <b>Dharshan Kumar K S</b>"
   ]
  },
  {
   "cell_type": "markdown",
   "metadata": {},
   "source": [
    "<pre>\n",
    "<u>Local alignment:</u>\n",
    "Align regions of two sequences which are highly similar\n",
    "\n",
    "<u>Smith-Waterman method:</u>\n",
    "•\tSmith-Waterman algorithm is the most commonly used one\n",
    "•\tIt comes under Dynamic Programming\n",
    "•\tGeneral three steps involved are 1) Initialization, 2) Matrix Filling, 3) Traceback\n",
    "•\tSmith-Waterman method is similar to Needleman-Wunsch method\n",
    "•\tThe difference is that the negative values are replaced with zeros\n",
    "•\tMatch –> 1, Mismatch –> -1, Gap -> -2\n",
    "</pre>"
   ]
  },
  {
   "cell_type": "code",
   "execution_count": 1,
   "metadata": {},
   "outputs": [],
   "source": [
    "import matplotlib.pyplot as plt\n",
    "import numpy as np"
   ]
  },
  {
   "cell_type": "code",
   "execution_count": 2,
   "metadata": {},
   "outputs": [],
   "source": [
    "def AGCT_to_num(seq1):\n",
    "    seqs1=[]\n",
    "    for i in seq1:\n",
    "        if(i==\"A\"):\n",
    "            seqs1.append(1)\n",
    "        elif(i==\"G\"):\n",
    "            seqs1.append(2)\n",
    "        elif(i==\"C\"):\n",
    "            seqs1.append(3)\n",
    "        if(i==\"T\"):\n",
    "            seqs1.append(4)    \n",
    "    return seqs1\n",
    "\n",
    "#If a value is negative, then changes to 0\n",
    "#If a value is positive, then it remains the same\n",
    "def if_neg(val):\n",
    "    if(val<0):\n",
    "        return 0\n",
    "    else:\n",
    "        return val"
   ]
  },
  {
   "cell_type": "markdown",
   "metadata": {},
   "source": [
    "#### 1) Initialization:"
   ]
  },
  {
   "cell_type": "code",
   "execution_count": 3,
   "metadata": {},
   "outputs": [],
   "source": [
    "def initialization(nw):\n",
    "    #Dimensions of our nw matrix\n",
    "    y,x=nw.shape\n",
    "    \n",
    "    #Initialising the first row of the matrix\n",
    "    initx=0\n",
    "    for j in range(1,x):\n",
    "        nw[1][j]=initx\n",
    "        initx=initx-2\n",
    "        initx=if_neg(initx)\n",
    "\n",
    "    #Initialising the first column of the matrix\n",
    "    inity=0\n",
    "    for i in range(1,y):\n",
    "        nw[i][1]=inity\n",
    "        inity=inity-2\n",
    "        inity=if_neg(inity)\n",
    "    return nw"
   ]
  },
  {
   "cell_type": "markdown",
   "metadata": {},
   "source": [
    "#### 2) Matrix Filling:"
   ]
  },
  {
   "cell_type": "code",
   "execution_count": 4,
   "metadata": {},
   "outputs": [],
   "source": [
    "#Computes the match/mismatch/gap value\n",
    "def find_left(left):\n",
    "    curr=left-2\n",
    "    curr=if_neg(curr)\n",
    "    return curr\n",
    "\n",
    "def find_up(up):\n",
    "    curr=up-2\n",
    "    curr=if_neg(curr)\n",
    "    return curr\n",
    "\n",
    "def find_diag(diag,nucleotide_up,necleotide_left):\n",
    "    if(nucleotide_up == necleotide_left):\n",
    "        curr=diag+1\n",
    "    else:\n",
    "        curr=diag-1\n",
    "    curr=if_neg(curr)\n",
    "    return curr"
   ]
  },
  {
   "cell_type": "code",
   "execution_count": 5,
   "metadata": {},
   "outputs": [],
   "source": [
    "def Matrix_Filling(nw):\n",
    "    #Dimensions of our nw matrix\n",
    "    y,x=nw.shape\n",
    "\n",
    "    #Iterates through each element of the matrix and\n",
    "    #checks for the minimum values of its neiughbouring elements and assigns that value\n",
    "    for i in range(2,y):\n",
    "        for j in range(2,x):\n",
    "            val_left=find_left(nw[i][j-1])\n",
    "            val_up=find_up(nw[i-1][j])\n",
    "            val_diag=find_diag(nw[i-1][j-1],nw[0][j],nw[i][0])\n",
    "            nw[i][j]=max(val_left, val_up, val_diag)\n",
    "    return nw"
   ]
  },
  {
   "cell_type": "markdown",
   "metadata": {},
   "source": [
    "#### 3) Traceback:"
   ]
  },
  {
   "cell_type": "code",
   "execution_count": 6,
   "metadata": {
    "scrolled": true
   },
   "outputs": [],
   "source": [
    "def Traceback(nw):\n",
    "    #Dimensions of our nw matrix\n",
    "    y,x=nw.shape\n",
    "    \n",
    "    i=y-1               #Initially starts at lower-right corner of the matrix\n",
    "    j=x-1\n",
    "    index=[]            #List to store the index values of Traceback elements\n",
    "    index.append([i,j]) #Appends the lower-right element into the matrix\n",
    "    match=[]            #List to store the values of Traceback elements\n",
    "    match_all=[]        #List to store the List of all matches found\n",
    "    arrow=[]            #List to store the arrow marks of Traceback elements\n",
    "\n",
    "    #Iterates backwards from the lower-right element of matrix\n",
    "    while(i>0 and j>0):\n",
    "        #If match is found, go to next diagonal element\n",
    "        if(nw[0][j]==nw[i][0]):\n",
    "            match.append(nw[0][j])\n",
    "            index.append([i,j])\n",
    "            arrow.append(\"↖\")\n",
    "            i=i-1\n",
    "            j=j-1\n",
    "        #If match is not found, go to next diagonal/left/top element\n",
    "        else:\n",
    "            match_all.append(match)\n",
    "            match=[]\n",
    "            #If left value is max, go to left element\n",
    "            if((nw[i][j-1]>nw[i-1][j]) and (nw[i][j-1]>nw[i-1][j-1])):\n",
    "                #arrow.append(\"←\")\n",
    "                j=j-1\n",
    "            #If left value is max, go to up element\n",
    "            elif((nw[i-1][j]>nw[i][j-1]) and (nw[i-1][j]>nw[i-1][j-1])):\n",
    "                #arrow.append(\"↑\")\n",
    "                i=i-1\n",
    "            #If diagonal value is max, go to diagonal element\n",
    "            elif((nw[i-1][j-1]>nw[i-1][j]) and (nw[i-1][j-1]>nw[i][j-1])):\n",
    "                #arrow.append(\"↖\")\n",
    "                i=i-1\n",
    "                j=j-1\n",
    "            continue\n",
    "    match_all.append(match)\n",
    "\n",
    "    match.pop()\n",
    "    arrow.pop()\n",
    "    arrow.reverse()\n",
    "    return match_all,index"
   ]
  },
  {
   "cell_type": "code",
   "execution_count": 7,
   "metadata": {},
   "outputs": [],
   "source": [
    "def num_to_AGCT(match_all):\n",
    "    match_new_all=[]\n",
    "    for j in match_all:\n",
    "        match_new=[]\n",
    "        for i in j:\n",
    "            if(i==1):\n",
    "                match_new.append('A')\n",
    "            elif(i==2):\n",
    "                match_new.append('G')\n",
    "            elif(i==3):\n",
    "                match_new.append('C')\n",
    "            elif(i==4):\n",
    "                match_new.append('T') \n",
    "            elif(i==0):\n",
    "                match_new.append('-')\n",
    "        match_new.reverse()\n",
    "        match_new_all.append(match_new)\n",
    "    return match_new_all\n",
    "\n",
    "def result(match_all):\n",
    "    #Converting the numbers into AGCT nucleotides of seq 1 for displaying final result \n",
    "    match_new_all = num_to_AGCT(match_all)\n",
    "\n",
    "    #Printing final result\n",
    "    count=0\n",
    "    for i in range(len(match_new_all)):\n",
    "        if (len(match_new_all[i])>1):\n",
    "            count+=1\n",
    "            print(\"Matching Sequence\",count,\":\",\" \".join(match_new_all[i]))"
   ]
  },
  {
   "cell_type": "markdown",
   "metadata": {},
   "source": [
    "#### Plotting Traceback:"
   ]
  },
  {
   "cell_type": "code",
   "execution_count": 8,
   "metadata": {},
   "outputs": [],
   "source": [
    "def plot_Traceback(S1,S2,index,nw):\n",
    "    seq1=list(S1)\n",
    "    seq2=list(S2)\n",
    "    \n",
    "    #Removes the header row and column & stores the original nw matrix\n",
    "    nw_new=np.delete(nw, 0, 0)\n",
    "    nw_new=np.delete(nw_new, 0, 1)\n",
    "\n",
    "    #Dimensions of the new original nw matrix\n",
    "    x1,y1=nw_new.shape\n",
    "    \n",
    "    #Just done for displaying the X and Y label in the graph\n",
    "    seq_plot1=[]\n",
    "    seq_plot2=[]\n",
    "    seq_plot1.append(\" \")\n",
    "    seq_plot2.append(\" \")\n",
    "    for i in seq1:\n",
    "        seq_plot1.append(i)\n",
    "    for i in seq2:\n",
    "        seq_plot2.append(i)\n",
    "\n",
    "    #Spliting the index list into list with x components & y components\n",
    "    x_plot=[]\n",
    "    for i in index :\n",
    "        x_plot.append(i[0])\n",
    "    y_plot=[]\n",
    "    for j in index :\n",
    "        y_plot.append(j[1])\n",
    "\n",
    "    #Reshaping the the index list into n x 2 matrix\n",
    "    index_plot=np.reshape(index,(len(index),2))\n",
    "\n",
    "    #Converting the index values into Cell values for the purpose of ploting using Cell method\n",
    "    Cell=[]\n",
    "    for i in range(len(index_plot)):\n",
    "            Cell.append((index_plot[i][1]-1) + (x1 - index_plot[i][0])*y1)\n",
    "\n",
    "    nrows = x1\n",
    "    ncols = y1\n",
    "\n",
    "    Cellid = Cell\n",
    "    Cellval = list(np.repeat(35, len(x_plot))) \n",
    "\n",
    "    data = np.zeros(nrows*ncols)\n",
    "    data[Cellid] = Cellval\n",
    "    data = np.ma.array(data.reshape((nrows, ncols)), mask=data==0)\n",
    "\n",
    "    fig, ax = plt.subplots()\n",
    "    ax.imshow(data, cmap=\"Greens\", origin=\"lower\", vmin=0)\n",
    "\n",
    "    # optionally add grid\n",
    "    ax.set_xticks(np.arange(ncols+1)-0.5, minor=True)\n",
    "    ax.set_yticks(np.arange(nrows+1)-0.5, minor=True)\n",
    "    ax.grid(which=\"minor\")\n",
    "    ax.tick_params(which=\"minor\", size=0)\n",
    "\n",
    "    xt=plt.xticks(np.arange(len(list(seq_plot1))),list(seq_plot1))\n",
    "    yt=plt.yticks(np.arange(len(list(seq_plot2))),list(seq_plot2))\n",
    "    plt.xlabel(\"Sequence 1\")\n",
    "    plt.ylabel(\"Sequence 2\")\n",
    "    plt.title(\"Traceback of Smith-Waterman Matrix\")\n",
    "    plt.show()"
   ]
  },
  {
   "cell_type": "code",
   "execution_count": 9,
   "metadata": {},
   "outputs": [],
   "source": [
    "def sw(S1,S2):\n",
    "    #Converting sequence string into a list \n",
    "    seq1=list(S1)\n",
    "    seq2=list(S2)\n",
    "\n",
    "    m=len(seq1)\n",
    "    n=len(seq2)\n",
    "\n",
    "    #Converting the AGCT nucleotides of seq 1 into numbers for easy computation \n",
    "    seqs1=AGCT_to_num(seq1)\n",
    "\n",
    "    #Converting the AGCT nucleotides of seq 2 into numbers for easy computation\n",
    "    seqs2=AGCT_to_num(seq2)\n",
    "    \n",
    "    #Creating a m x n matrix will full of 0s\n",
    "    nw = np.zeros((m+1,n+1)).T\n",
    "\n",
    "    #Creating header row for sequence 1\n",
    "    new_row=[]\n",
    "    new_row.append(0)\n",
    "    for i in seqs1:\n",
    "        new_row.append(i)\n",
    "\n",
    "    #Creating header coulmn for sequence 2\n",
    "    new_col=[]\n",
    "    new_col.append(0)\n",
    "    new_col.append(0)\n",
    "    for i in seqs2:\n",
    "        new_col.append(i)\n",
    "\n",
    "    #Inserting the created header row & column in our nw matrix\n",
    "    nw=np.insert(nw, 0, np.array(new_row), 0) \n",
    "    nw=np.insert(nw, 0, np.array(new_col), 1)\n",
    "    return nw\n",
    "    \n",
    "def main(S1,S2):\n",
    "    nw = sw(S1,S2)\n",
    "    nw = initialization(nw)\n",
    "    nw = Matrix_Filling(nw)\n",
    "    plot_matrix(nw)\n",
    "    match_all, index = Traceback(nw)\n",
    "    result(match_all)\n",
    "    plot_Traceback(S1, S2, index, nw)"
   ]
  },
  {
   "cell_type": "code",
   "execution_count": 10,
   "metadata": {},
   "outputs": [],
   "source": [
    "def plot_matrix(nw):\n",
    "    #Removes the header row and column & stores the original nw matrix\n",
    "    nw_new=np.delete(nw, 0, 0)\n",
    "    nw_new=np.delete(nw_new, 0, 1)\n",
    "\n",
    "    #Dimensions of the new original nw matrix\n",
    "    x1,y1=nw_new.shape\n",
    "\n",
    "    #Plotting m x n subplots\n",
    "    fig, ax = plt.subplots()\n",
    "    min_val, max_val = 0, 15\n",
    "    plt.xlabel(\"Sequence 1\")\n",
    "    plt.ylabel(\"Sequence 2\")\n",
    "    plt.title(\"Smith-Waterman Matrix\")\n",
    "    ax.matshow(nw_new, cmap=plt.cm.Blues)\n",
    "\n",
    "    #Displaying text inside the plot\n",
    "    for i in range(x1):\n",
    "        for j in range(y1):\n",
    "            c = nw_new[j,i]\n",
    "            ax.text(i, j, str(c), va='center', ha='center')"
   ]
  },
  {
   "cell_type": "code",
   "execution_count": 12,
   "metadata": {
    "scrolled": false
   },
   "outputs": [
    {
     "name": "stdout",
     "output_type": "stream",
     "text": [
      "Matching Sequence 1 : A G\n",
      "Matching Sequence 2 : C T\n"
     ]
    },
    {
     "data": {
      "image/png": "[encoded data removed]",
      "text/plain": [
       "<Figure size 432x288 with 1 Axes>"
      ]
     },
     "metadata": {
      "needs_background": "light"
     },
     "output_type": "display_data"
    },
    {
     "data": {
      "image/png": "[encoded data removed]",
      "text/plain": [
       "<Figure size 432x288 with 1 Axes>"
      ]
     },
     "metadata": {
      "needs_background": "light"
     },
     "output_type": "display_data"
    }
   ],
   "source": [
    "S1= \"CTCAGGT\"    \n",
    "S2= \"CTGAGCT\"\n",
    "\n",
    "main(S1,S2)"
   ]
  },
  {
   "cell_type": "code",
   "execution_count": null,
   "metadata": {},
   "outputs": [],
   "source": []
  }
 ],
 "metadata": {
  "@webio": {
   "lastCommId": null,
   "lastKernelId": null
  },
  "kernelspec": {
   "display_name": "Python 3",
   "language": "python",
   "name": "python3"
  },
  "language_info": {
   "codemirror_mode": {
    "name": "ipython",
    "version": 3
   },
   "file_extension": ".py",
   "mimetype": "text/x-python",
   "name": "python",
   "nbconvert_exporter": "python",
   "pygments_lexer": "ipython3",
   "version": "3.7.4"
  }
 },
 "nbformat": 4,
 "nbformat_minor": 2
}
